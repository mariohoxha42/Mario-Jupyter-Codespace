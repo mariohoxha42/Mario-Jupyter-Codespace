{
 "cells": [
  {
   "cell_type": "code",
   "execution_count": 1,
   "metadata": {},
   "outputs": [],
   "source": [
    "%run \"C:/Github Repo/NBA-Analytics/notebooks/basketballProject/extraction/2-evergreen-engine.ipynb\""
   ]
  },
  {
   "cell_type": "code",
   "execution_count": 2,
   "metadata": {},
   "outputs": [],
   "source": [
    "%run \"C:/Github Repo/NBA-Analytics/notebooks/basketballProject/extraction/3-consolidation-engine.ipynb\""
   ]
  },
  {
   "cell_type": "code",
   "execution_count": 3,
   "metadata": {},
   "outputs": [],
   "source": [
    "%run \"C:/Github Repo/NBA-Analytics/notebooks/basketballProject/processing/1-cleansing-engine.ipynb\""
   ]
  },
  {
   "cell_type": "code",
   "execution_count": 4,
   "metadata": {},
   "outputs": [],
   "source": [
    "%run \"C:/Github Repo/NBA-Analytics/notebooks/basketballProject/processing/2-enriching-engine.ipynb\""
   ]
  },
  {
   "cell_type": "code",
   "execution_count": 5,
   "metadata": {},
   "outputs": [],
   "source": [
    "%run \"C:/Github Repo/NBA-Analytics/notebooks/basketballProject/extraction/historical/2-historical-consolidation-engine.ipynb\""
   ]
  },
  {
   "cell_type": "code",
   "execution_count": 6,
   "metadata": {},
   "outputs": [],
   "source": [
    "%run \"C:/Github Repo/NBA-Analytics/notebooks/basketballProject/processing/historical/1-historical-cleansing-engine.ipynb\""
   ]
  },
  {
   "cell_type": "code",
   "execution_count": 7,
   "metadata": {},
   "outputs": [],
   "source": [
    "%run \"C:/Github Repo/NBA-Analytics/notebooks/basketballProject/processing/historical/2-historical-enriching-engine.ipynb\""
   ]
  },
  {
   "cell_type": "code",
   "execution_count": 8,
   "metadata": {},
   "outputs": [],
   "source": [
    "%run \"C:/Github Repo/NBA-Analytics/notebooks/basketballProject/processing/historical/3-historical-prediction-engine.ipynb\""
   ]
  }
 ],
 "metadata": {
  "kernelspec": {
   "display_name": "Python 3",
   "language": "python",
   "name": "python3"
  },
  "language_info": {
   "codemirror_mode": {
    "name": "ipython",
    "version": 3
   },
   "file_extension": ".py",
   "mimetype": "text/x-python",
   "name": "python",
   "nbconvert_exporter": "python",
   "pygments_lexer": "ipython3",
   "version": "3.11.1"
  },
  "orig_nbformat": 4,
  "vscode": {
   "interpreter": {
    "hash": "214b9567dfb3af3fec25f201254d742456ae26af278166741b3d1f08044ae781"
   }
  }
 },
 "nbformat": 4,
 "nbformat_minor": 2
}
