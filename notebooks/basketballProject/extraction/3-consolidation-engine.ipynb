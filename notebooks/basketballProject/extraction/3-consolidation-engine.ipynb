{
 "cells": [
  {
   "cell_type": "code",
   "execution_count": 33,
   "metadata": {},
   "outputs": [],
   "source": [
    "# import python libraries and nba library\n",
    "import numpy as np\n",
    "import nba_api as nba\n",
    "from matplotlib import pyplot as plt\n",
    "import pandas as pd\n",
    "import socket\n",
    "import logging\n",
    "import os\n",
    "import glob"
   ]
  },
  {
   "cell_type": "code",
   "execution_count": 34,
   "metadata": {},
   "outputs": [],
   "source": [
    "# Get all files in working extraction data directory\n",
    "path = \"C:/Github Repo/NBA-Analytics/data/basketballProject/extraction-files/\"\n",
    "csv_files = glob.glob(os.path.join(path,\"*.csv\"))\n",
    "\n",
    "# bringing in all new files\n",
    "extract_df = pd.DataFrame()\n",
    "for file in csv_files:\n",
    "    df = pd.read_csv(file, index_col=1)\n",
    "    frames = [extract_df, df]\n",
    "    extract_df = pd.concat(frames)"
   ]
  },
  {
   "cell_type": "code",
   "execution_count": 35,
   "metadata": {},
   "outputs": [],
   "source": [
    "# Get all files in working evergreen data directory\n",
    "path = \"C:/Github Repo/NBA-Analytics/data/basketballProject/evergreen-files/\"\n",
    "csv_files = glob.glob(os.path.join(path,\"*.csv\"))\n",
    "\n",
    "# bring in evergreen file\n",
    "evergreen_df = pd.DataFrame()\n",
    "for file in csv_files:\n",
    "    df = pd.read_csv(file, index_col=1)\n",
    "    frames = [evergreen_df, df]\n",
    "    evergreen_df = pd.concat(frames)"
   ]
  },
  {
   "cell_type": "code",
   "execution_count": 36,
   "metadata": {},
   "outputs": [],
   "source": [
    "# Cosmetic changes and dropping duplicates that snuck in on import\n",
    "extract_df = extract_df.rename(columns={\"Unnamed: 0\": \"Season #\"})\n",
    "extract_df = extract_df.drop(columns=[\"LEAGUE_ID\", \"GS\",\"TEAM_ID\"], axis=1)\n",
    "extract_df = extract_df.drop_duplicates()\n",
    "\n",
    "evergreen_df = evergreen_df.drop_duplicates()\n",
    "evergreen_df = evergreen_df.drop(columns=[\"Unnamed: 0\", \"TEAM_ID\",\"RANK\",'EFF','AST_TOV','STL_TOV'], axis=1)\n",
    "evergreen_df.insert(0, \"Season #\", -1)\n",
    "evergreen_df.insert(2, \"SEASON_ID\", \"2022-23\")\n",
    "evergreen_df.insert(4, \"AGE\",0)"
   ]
  },
  {
   "cell_type": "code",
   "execution_count": 39,
   "metadata": {},
   "outputs": [],
   "source": [
    "extract_df = extract_df[(extract_df[\"SEASON_ID\"] != \"2022-23\")]"
   ]
  },
  {
   "cell_type": "code",
   "execution_count": 40,
   "metadata": {},
   "outputs": [],
   "source": [
    "full_df = pd.DataFrame(np.vstack([extract_df, evergreen_df]), columns=evergreen_df.columns)"
   ]
  },
  {
   "cell_type": "code",
   "execution_count": 42,
   "metadata": {},
   "outputs": [],
   "source": [
    "file_path = \"C:/Github Repo/NBA-Analytics/data/basketballProject/consolidated-files/\"\n",
    "# file_path = \"../../data/basketballProject/analysis-files/\"\n",
    "file_name = \"consolidated_evergreen_stats\"\n",
    "file_extension = \".csv\"\n",
    "full_path = file_path + file_name + file_extension\n",
    "full_df.to_csv(full_path)"
   ]
  }
 ],
 "metadata": {
  "kernelspec": {
   "display_name": "Python 3",
   "language": "python",
   "name": "python3"
  },
  "language_info": {
   "codemirror_mode": {
    "name": "ipython",
    "version": 3
   },
   "file_extension": ".py",
   "mimetype": "text/x-python",
   "name": "python",
   "nbconvert_exporter": "python",
   "pygments_lexer": "ipython3",
   "version": "3.11.1 (tags/v3.11.1:a7a450f, Dec  6 2022, 19:58:39) [MSC v.1934 64 bit (AMD64)]"
  },
  "orig_nbformat": 4,
  "vscode": {
   "interpreter": {
    "hash": "214b9567dfb3af3fec25f201254d742456ae26af278166741b3d1f08044ae781"
   }
  }
 },
 "nbformat": 4,
 "nbformat_minor": 2
}
