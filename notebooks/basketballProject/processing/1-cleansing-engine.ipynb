{
 "cells": [
  {
   "cell_type": "code",
   "execution_count": 1,
   "metadata": {},
   "outputs": [],
   "source": [
    "# importing libraries\n",
    "import pandas as pd\n",
    "import numpy as np"
   ]
  },
  {
   "cell_type": "code",
   "execution_count": 2,
   "metadata": {},
   "outputs": [],
   "source": [
    "# reading raw consolidated file\n",
    "file_path = \"C:/Github Repo/NBA-Analytics/data/basketballProject/consolidated-files/consolidated_evergreen_stats.csv\"\n",
    "raw_df = pd.read_csv(file_path)"
   ]
  },
  {
   "cell_type": "code",
   "execution_count": 3,
   "metadata": {},
   "outputs": [],
   "source": [
    "# Cleaning Raw Data columns\n",
    "raw_df = raw_df.drop(columns=[\"Unnamed: 0\",\"TEAM\",\"FG_PCT\",\"FG3_PCT\",\"FT_PCT\"])\n",
    "unique_ids = raw_df.PLAYER.unique()"
   ]
  },
  {
   "cell_type": "code",
   "execution_count": 4,
   "metadata": {},
   "outputs": [],
   "source": [
    "raw_df = raw_df.groupby([\"PLAYER\",\"SEASON_ID\",\"AGE\"]).agg({\"Season #\":\"min\"\n",
    "                                                            ,\"GP\":\"max\"\n",
    "                                                            ,\"MIN\":\"max\"\n",
    "                                                            ,\"FGM\":\"max\"\n",
    "                                                            ,\"FGA\":\"max\"\n",
    "                                                            ,\"FG3M\":\"max\"\n",
    "                                                            ,\"FG3A\":\"max\"\n",
    "                                                            ,\"FTM\":\"max\"\n",
    "                                                            ,\"FTA\":\"max\"\n",
    "                                                            ,\"OREB\":\"max\"\n",
    "                                                            ,\"DREB\":\"max\"\n",
    "                                                            ,\"REB\":\"max\"\n",
    "                                                            ,\"AST\":\"max\"\n",
    "                                                            ,\"STL\":\"max\"\n",
    "                                                            ,\"BLK\":\"max\"\n",
    "                                                            ,\"TOV\":\"max\"\n",
    "                                                            ,\"PF\":\"max\"\n",
    "                                                            ,\"PTS\":\"max\"\n",
    "                                                            })\n",
    "\n",
    "raw_df = raw_df.reset_index()\n",
    "\n",
    "raw_df.columns = [\"PLAYER\"\n",
    "                    ,\"SEASON_ID\"\n",
    "                    ,\"AGE\"\n",
    "                    ,\"SEASON_NO\"\n",
    "                    ,\"GP\"\n",
    "                    ,\"MIN\"\n",
    "                    ,\"FGM\"\n",
    "                    ,\"FGA\"\n",
    "                    ,\"FG3M\"\n",
    "                    ,\"FG3A\"\n",
    "                    ,\"FTM\"\n",
    "                    ,\"FTA\"\n",
    "                    ,\"OREB\"\n",
    "                    ,\"DREB\"\n",
    "                    ,\"REB\"\n",
    "                    ,\"AST\"\n",
    "                    ,\"STL\"\n",
    "                    ,\"BLK\"\n",
    "                    ,\"TOV\"\n",
    "                    ,\"PF\"\n",
    "                    ,\"PTS\"\n",
    "                    ]"
   ]
  },
  {
   "cell_type": "code",
   "execution_count": 5,
   "metadata": {},
   "outputs": [],
   "source": [
    "for player_id in unique_ids:\n",
    "    current_age = -1\n",
    "    current_season = -1\n",
    "    last_season = -2\n",
    "    for index, row in raw_df[raw_df[\"PLAYER\"] == player_id].iterrows():\n",
    "        age = row[\"AGE\"]\n",
    "        season = row[\"SEASON_NO\"]\n",
    "        if age > current_age:\n",
    "            current_age = age\n",
    "        if season > current_season:\n",
    "            current_season = season\n",
    "        if last_season == -2:\n",
    "            last_season = season\n",
    "        elif (season - last_season) == 1:\n",
    "            last_season = season\n",
    "        elif (season - last_season) > 1:\n",
    "            last_season = last_season + 1\n",
    "            current_season = last_season\n",
    "            raw_df.loc[(raw_df[\"PLAYER\"] == player_id) & (raw_df[\"SEASON_NO\"] == season), \"SEASON_NO\"] = current_season\n",
    "    current_age = current_age + 1\n",
    "    current_season = current_season + 1\n",
    "    if current_age == 1:\n",
    "        current_age = 21\n",
    "    raw_df.loc[(raw_df[\"PLAYER\"] == player_id) & (raw_df[\"AGE\"] == 0), \"AGE\"] = current_age\n",
    "    raw_df.loc[(raw_df[\"PLAYER\"] == player_id) & (raw_df[\"SEASON_NO\"] == -1), \"SEASON_NO\"] = current_season\n",
    "\n",
    "raw_df.fillna(0, inplace=True)"
   ]
  },
  {
   "cell_type": "code",
   "execution_count": 8,
   "metadata": {},
   "outputs": [],
   "source": [
    "file_path = \"C:/Github Repo/NBA-Analytics/data/basketballProject/cleaned-files/\"\n",
    "# file_path = \"../../data/basketballProject/cleaned-files/\"\n",
    "file_name = \"cleaned-data\"\n",
    "file_extension = \".csv\"\n",
    "full_path = file_path + file_name + file_extension\n",
    "raw_df.to_csv(full_path)"
   ]
  }
 ],
 "metadata": {
  "kernelspec": {
   "display_name": "Python 3",
   "language": "python",
   "name": "python3"
  },
  "language_info": {
   "codemirror_mode": {
    "name": "ipython",
    "version": 3
   },
   "file_extension": ".py",
   "mimetype": "text/x-python",
   "name": "python",
   "nbconvert_exporter": "python",
   "pygments_lexer": "ipython3",
   "version": "3.11.1 (tags/v3.11.1:a7a450f, Dec  6 2022, 19:58:39) [MSC v.1934 64 bit (AMD64)]"
  },
  "orig_nbformat": 4,
  "vscode": {
   "interpreter": {
    "hash": "214b9567dfb3af3fec25f201254d742456ae26af278166741b3d1f08044ae781"
   }
  }
 },
 "nbformat": 4,
 "nbformat_minor": 2
}
