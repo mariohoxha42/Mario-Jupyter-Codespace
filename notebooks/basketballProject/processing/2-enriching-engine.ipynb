{
 "cells": [
  {
   "attachments": {},
   "cell_type": "markdown",
   "metadata": {},
   "source": [
    "# Enriching Engine"
   ]
  },
  {
   "cell_type": "code",
   "execution_count": 68,
   "metadata": {},
   "outputs": [],
   "source": [
    "# importing libraries\n",
    "import pandas as pd"
   ]
  },
  {
   "cell_type": "code",
   "execution_count": 69,
   "metadata": {},
   "outputs": [],
   "source": [
    "# reading clean file\n",
    "file_path = \"C:/Github Repo/NBA-Analytics/data/basketballProject/cleaned-files/cleaned-data.csv\"\n",
    "clean_df = pd.read_csv(file_path)"
   ]
  },
  {
   "cell_type": "code",
   "execution_count": 70,
   "metadata": {},
   "outputs": [],
   "source": [
    "enriched_df = clean_df\n",
    "enriched_df[\"EFG_PCT\"] = 0\n",
    "enriched_df[\"FTR\"] = 0\n",
    "enriched_df[\"FGP\"] = 0\n",
    "enriched_df[\"FG3P\"] = 0\n",
    "enriched_df[\"FTP\"] = 0\n",
    "enriched_df[\"TS_PCT\"] = 0\n",
    "enriched_df[\"AST_RT\"] = 0\n",
    "enriched_df[\"TOV_RT\"] = 0\n",
    "enriched_df[\"POSS\"] = 0 "
   ]
  },
  {
   "cell_type": "code",
   "execution_count": 71,
   "metadata": {},
   "outputs": [],
   "source": [
    "for index, row in enriched_df.iterrows():\n",
    "    # Calculating Possessions\n",
    "    row[\"POSS\"] = 0.5*(row[\"FGA\"]+0.475*row[\"FTA\"]-row[\"OREB\"]+row[\"TOV\"])\n",
    "\n",
    "    # Calculating Effective Field Goal pct & Free Throw Rate & Field Goal Percentage\n",
    "    if row[\"FGA\"] == 0:\n",
    "        row[\"EFG_PCT\"] = 0\n",
    "        row[\"FTR\"] = 0\n",
    "        row[\"FGP\"] = 0\n",
    "    else:\n",
    "        row[\"FGP\"] = row[\"FGM\"]/row[\"FGA\"]\n",
    "        row[\"EFG_PCT\"] = (row[\"FGM\"]+0.5*row[\"FG3M\"])/row[\"FGA\"]\n",
    "        row[\"FTR\"] = row[\"FTM\"]/row[\"FGA\"]\n",
    "    \n",
    "    # Calculating 3-point Field Goal Percentage\n",
    "    if row[\"FG3A\"] == 0:\n",
    "        row[\"FG3P\"] = 0\n",
    "    else:\n",
    "        row[\"FG3P\"] = row[\"FG3M\"]/row[\"FG3A\"] \n",
    "\n",
    "    # Calculating Free Throw Percentage\n",
    "    if row[\"FTA\"] == 0:\n",
    "        row[\"FTP\"] = 0\n",
    "    else:\n",
    "        row[\"FTP\"] = row[\"FTM\"]/row[\"FTA\"]\n",
    "\n",
    "    # Calculating True Shooting pct\n",
    "    if (row[\"FGA\"] + row[\"FTA\"]) == 0:\n",
    "        row[\"TS_PCT\"] = 0\n",
    "    else:\n",
    "        row[\"TS_PCT\"] = row[\"PTS\"]/(2*(row[\"FGA\"]+0.475*row[\"FTA\"]))\n",
    "\n",
    "    # Calculating Hollinger Assist Ratio & Turnover Ratio\n",
    "    if (row[\"FGA\"] + row[\"FTA\"] + row[\"AST\"]+ row[\"TOV\"]) == 0:\n",
    "        row[\"AST_RT\"] = 0\n",
    "        row[\"TOV_RT\"] = 0\n",
    "    else:\n",
    "        row[\"AST_RT\"] = row[\"AST\"]/(row[\"FGA\"]+0.475*row[\"FTA\"]+row[\"AST\"]+row[\"TOV\"])\n",
    "        row[\"TOV_RT\"] = row[\"TOV\"]/(row[\"FGA\"]+0.475*row[\"FTA\"]+row[\"AST\"]+row[\"TOV\"])"
   ]
  },
  {
   "cell_type": "code",
   "execution_count": 72,
   "metadata": {},
   "outputs": [],
   "source": [
    "# Calculating Stats Per Game\n",
    "enriched_df[\"PPG\"] = enriched_df[\"PTS\"]/enriched_df[\"GP\"]\n",
    "enriched_df[\"APG\"] = enriched_df[\"AST\"]/enriched_df[\"GP\"]\n",
    "enriched_df[\"RPG\"] = enriched_df[\"REB\"]/enriched_df[\"GP\"]\n",
    "enriched_df[\"ORPG\"] = enriched_df[\"OREB\"]/enriched_df[\"GP\"]\n",
    "enriched_df[\"DRPG\"] = enriched_df[\"DREB\"]/enriched_df[\"GP\"]\n",
    "enriched_df[\"SPG\"] = enriched_df[\"STL\"]/enriched_df[\"GP\"]\n",
    "enriched_df[\"BPG\"] = enriched_df[\"BLK\"]/enriched_df[\"GP\"]\n",
    "enriched_df[\"TPG\"] = enriched_df[\"TOV\"]/enriched_df[\"GP\"]\n",
    "enriched_df[\"FGMPG\"] = enriched_df[\"FGM\"]/enriched_df[\"GP\"]\n",
    "enriched_df[\"FGAPG\"] = enriched_df[\"FGA\"]/enriched_df[\"GP\"]\n",
    "enriched_df[\"FG3MPG\"] = enriched_df[\"FG3M\"]/enriched_df[\"GP\"]\n",
    "enriched_df[\"FG3APG\"] = enriched_df[\"FG3A\"]/enriched_df[\"GP\"]\n",
    "enriched_df[\"FTMPG\"] = enriched_df[\"FTM\"]/enriched_df[\"GP\"]\n",
    "enriched_df[\"FTAPG\"] = enriched_df[\"FTA\"]/enriched_df[\"GP\"]\n",
    "enriched_df[\"MPG\"] = enriched_df[\"MIN\"]/enriched_df[\"GP\"]\n",
    "enriched_df[\"PFPG\"] = enriched_df[\"PF\"]/enriched_df[\"GP\"]\n",
    "\n",
    "# Calculating Stats Per 100 Possessions\n",
    "enriched_df[\"PTS_P100\"] = (100*enriched_df[\"PTS\"])/enriched_df[\"POSS\"]\n",
    "enriched_df[\"AST_P100\"] = (100*enriched_df[\"AST\"])/enriched_df[\"POSS\"]\n",
    "enriched_df[\"REB_P100\"] = (100*enriched_df[\"REB\"])/enriched_df[\"POSS\"]\n",
    "enriched_df[\"OREB_P100\"] = (100*enriched_df[\"OREB\"])/enriched_df[\"POSS\"]\n",
    "enriched_df[\"DREB_P100\"] = (100*enriched_df[\"DREB\"])/enriched_df[\"POSS\"]\n",
    "enriched_df[\"STL_P100\"] = (100*enriched_df[\"STL\"])/enriched_df[\"POSS\"]\n",
    "enriched_df[\"BLK_P100\"] = (100*enriched_df[\"BLK\"])/enriched_df[\"POSS\"]\n",
    "enriched_df[\"TOV_P100\"] = (100*enriched_df[\"TOV\"])/enriched_df[\"POSS\"]\n",
    "enriched_df[\"FGM_P100\"] = (100*enriched_df[\"FGM\"])/enriched_df[\"POSS\"]\n",
    "enriched_df[\"FGA_P100\"] = (100*enriched_df[\"FGA\"])/enriched_df[\"POSS\"]\n",
    "enriched_df[\"FG3M_P100\"] = (100*enriched_df[\"FG3M\"])/enriched_df[\"POSS\"]\n",
    "enriched_df[\"FG3A_P100\"] = (100*enriched_df[\"FG3A\"])/enriched_df[\"POSS\"]\n",
    "enriched_df[\"FTM_P100\"] = (100*enriched_df[\"FTM\"])/enriched_df[\"POSS\"]\n",
    "enriched_df[\"FTA_P100\"] = (100*enriched_df[\"FTA\"])/enriched_df[\"POSS\"]\n",
    "enriched_df[\"MIN_P100\"] = (100*enriched_df[\"MIN\"])/enriched_df[\"POSS\"]\n",
    "enriched_df[\"PF_P100\"] = (100*enriched_df[\"PF\"])/enriched_df[\"POSS\"]\n",
    "\n",
    "enriched_df.fillna(0, inplace=True)"
   ]
  },
  {
   "cell_type": "code",
   "execution_count": 74,
   "metadata": {},
   "outputs": [],
   "source": [
    "file_path = \"C:/Github Repo/NBA-Analytics/data/basketballProject/enriched-files/\"\n",
    "# file_path = \"../../data/basketballProject/prediction-files/\"\n",
    "file_name = \"enriched-data\"\n",
    "file_extension = \".csv\"\n",
    "full_path = file_path + file_name + file_extension\n",
    "enriched_df.to_csv(full_path)"
   ]
  }
 ],
 "metadata": {
  "kernelspec": {
   "display_name": "Python 3",
   "language": "python",
   "name": "python3"
  },
  "language_info": {
   "codemirror_mode": {
    "name": "ipython",
    "version": 3
   },
   "file_extension": ".py",
   "mimetype": "text/x-python",
   "name": "python",
   "nbconvert_exporter": "python",
   "pygments_lexer": "ipython3",
   "version": "3.11.1"
  },
  "orig_nbformat": 4,
  "vscode": {
   "interpreter": {
    "hash": "214b9567dfb3af3fec25f201254d742456ae26af278166741b3d1f08044ae781"
   }
  }
 },
 "nbformat": 4,
 "nbformat_minor": 2
}
