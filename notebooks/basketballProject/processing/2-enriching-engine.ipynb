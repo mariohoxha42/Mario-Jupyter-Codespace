{
 "cells": [
  {
   "attachments": {},
   "cell_type": "markdown",
   "metadata": {},
   "source": [
    "# Enriching Engine"
   ]
  },
  {
   "cell_type": "code",
   "execution_count": 15,
   "metadata": {},
   "outputs": [],
   "source": [
    "# importing libraries\n",
    "import pandas as pd"
   ]
  },
  {
   "cell_type": "code",
   "execution_count": 16,
   "metadata": {},
   "outputs": [],
   "source": [
    "# reading clean file\n",
    "file_path = \"C:/Github Repo/NBA-Analytics/data/basketballProject/cleaned-files/cleaned-data.csv\"\n",
    "clean_df = pd.read_csv(file_path)"
   ]
  },
  {
   "cell_type": "code",
   "execution_count": 17,
   "metadata": {},
   "outputs": [],
   "source": [
    "for index, row in clean_df.iterrows():\n",
    "    # Calculating Possessions\n",
    "    row[\"POSS\"] = 0.5*(row[\"FGA\"]+0.475*row[\"FTA\"]-row[\"OREB\"]+row[\"TOV\"])\n",
    "\n",
    "    # Calculating Effective Field Goal pct\n",
    "    if row[\"FGA\"] == 0:\n",
    "        row[\"EFG_PCT\"] = 0\n",
    "    else:\n",
    "        row[\"EFG_PCT\"] = (row[\"FGM\"]+0.5*row[\"FG3M\"])/row[\"FGA\"]\n",
    "    \n",
    "    # Calculating True Shooting pct\n",
    "    if (row[\"FGA\"] + row[\"FTA\"]) == 0:\n",
    "        row[\"TS_PCT\"] = 0\n",
    "    else:\n",
    "        row[\"TS_PCT\"] = row[\"PTS\"]/(2*(row[\"FGA\"]+0.475*row[\"FTA\"]))\n",
    "\n",
    "    # Calculating Free Throw Rate\n",
    "    if row[\"FGA\"] == 0:\n",
    "        row[\"FTR\"] = 0\n",
    "    else:\n",
    "        row[\"FTR\"] = row[\"FTM\"]/row[\"FGA\"]\n",
    "\n",
    "    # Calculating Hollinger Assist Ratio\n",
    "    if (row[\"FGA\"] + row[\"FTA\"] + row[\"AST\"]+ row[\"TOV\"]) == 0:\n",
    "        row[\"AST_RT\"] = 0\n",
    "    else:\n",
    "        row[\"AST_RT\"] = row[\"AST\"]/(row[\"FGA\"]+0.475*row[\"FTA\"]+row[\"AST\"]+row[\"TOV\"])\n",
    "\n",
    "    # Calculating Turnover Percentage\n",
    "    if (row[\"FGA\"] + row[\"FTA\"] + row[\"AST\"]+ row[\"TOV\"]) == 0:\n",
    "        row[\"TOV_RT\"] = 0\n",
    "    else:\n",
    "        row[\"TOV_RT\"] = row[\"TOV\"]/(row[\"FGA\"]+0.475*row[\"FTA\"]+row[\"AST\"]+row[\"TOV\"])"
   ]
  },
  {
   "cell_type": "code",
   "execution_count": 18,
   "metadata": {},
   "outputs": [],
   "source": [
    "file_path = \"C:/Github Repo/NBA-Analytics/data/basketballProject/enriched-files/\"\n",
    "# file_path = \"../../data/basketballProject/prediction-files/\"\n",
    "file_name = \"enriched-data\"\n",
    "file_extension = \".csv\"\n",
    "full_path = file_path + file_name + file_extension\n",
    "clean_df.to_csv(full_path)"
   ]
  }
 ],
 "metadata": {
  "kernelspec": {
   "display_name": "Python 3",
   "language": "python",
   "name": "python3"
  },
  "language_info": {
   "codemirror_mode": {
    "name": "ipython",
    "version": 3
   },
   "file_extension": ".py",
   "mimetype": "text/x-python",
   "name": "python",
   "nbconvert_exporter": "python",
   "pygments_lexer": "ipython3",
   "version": "3.11.1"
  },
  "orig_nbformat": 4,
  "vscode": {
   "interpreter": {
    "hash": "214b9567dfb3af3fec25f201254d742456ae26af278166741b3d1f08044ae781"
   }
  }
 },
 "nbformat": 4,
 "nbformat_minor": 2
}
