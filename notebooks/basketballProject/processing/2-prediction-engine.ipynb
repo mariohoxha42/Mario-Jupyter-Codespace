{
 "cells": [
  {
   "attachments": {},
   "cell_type": "markdown",
   "metadata": {},
   "source": [
    "# Prediction Engine"
   ]
  },
  {
   "cell_type": "code",
   "execution_count": 16,
   "metadata": {},
   "outputs": [],
   "source": [
    "# importing libraries\n",
    "import pandas as pd\n",
    "import numpy as np\n",
    "from sklearn import linear_model "
   ]
  },
  {
   "cell_type": "code",
   "execution_count": 17,
   "metadata": {},
   "outputs": [],
   "source": [
    "# reading clean file\n",
    "file_path = \"C:/Github Repo/NBA-Analytics/data/basketballProject/cleaned-files/cleaned-data.csv\"\n",
    "clean_df = pd.read_csv(file_path)\n",
    "training_df = clean_df[(clean_df[\"SEASON_ID\"] != \"2022-23\") & (1 == 1)]\n",
    "test_df = clean_df[(clean_df[\"SEASON_ID\"] == \"2022-23\") & (1 == 1)].reset_index()\n",
    "test_df[\"PTS_PRED\"] = 0\n",
    "max_min_possible = max(test_df[\"MIN\"])"
   ]
  },
  {
   "cell_type": "code",
   "execution_count": 18,
   "metadata": {},
   "outputs": [],
   "source": [
    "x = training_df[[\"AGE\",\"SEASON_NO\",\"MIN\"]]\n",
    "y = training_df[\"PTS\"]\n",
    "\n",
    "regr = linear_model.LinearRegression()\n",
    "regr.fit(x.values,y.values)\n",
    "\n",
    "predict_df = clean_df[[\"AGE\"]]\n",
    "\n",
    "max_min_test = max(training_df[\"MIN\"])\n",
    "\n",
    "for index, row in test_df.iterrows():\n",
    "    name = row[\"PLAYER\"]\n",
    "    age = row[\"AGE\"]\n",
    "    season = row[\"SEASON_NO\"]\n",
    "    minutes = row[\"MIN\"]/max_min_test*max_min_possible\n",
    "    pts_pred = regr.predict([[age,season,minutes]])[0]\n",
    "    test_df.loc[(test_df[\"PLAYER\"] == name) & (1 == 1), \"PTS_PRED\"] = pts_pred"
   ]
  },
  {
   "cell_type": "code",
   "execution_count": 19,
   "metadata": {},
   "outputs": [],
   "source": [
    "test_df[\"PRED_DIFF\"] = test_df[\"PTS\"] - test_df[\"PTS_PRED\"]"
   ]
  },
  {
   "cell_type": "code",
   "execution_count": 20,
   "metadata": {},
   "outputs": [],
   "source": [
    "file_path = \"C:/Github Repo/NBA-Analytics/data/basketballProject/prediction-files/\"\n",
    "# file_path = \"../../data/basketballProject/prediction-files/\"\n",
    "file_name = \"predicted-data\"\n",
    "file_extension = \".csv\"\n",
    "full_path = file_path + file_name + file_extension\n",
    "test_df.to_csv(full_path)"
   ]
  },
  {
   "cell_type": "code",
   "execution_count": 21,
   "metadata": {},
   "outputs": [],
   "source": [
    "# test_df[[\"PLAYER\",\"PTS\",\"PTS_PRED\",\"PRED_DIFF\"]][test_df[\"PRED_DIFF\"] > 400]"
   ]
  }
 ],
 "metadata": {
  "kernelspec": {
   "display_name": "Python 3",
   "language": "python",
   "name": "python3"
  },
  "language_info": {
   "codemirror_mode": {
    "name": "ipython",
    "version": 3
   },
   "file_extension": ".py",
   "mimetype": "text/x-python",
   "name": "python",
   "nbconvert_exporter": "python",
   "pygments_lexer": "ipython3",
   "version": "3.11.1"
  },
  "orig_nbformat": 4,
  "vscode": {
   "interpreter": {
    "hash": "214b9567dfb3af3fec25f201254d742456ae26af278166741b3d1f08044ae781"
   }
  }
 },
 "nbformat": 4,
 "nbformat_minor": 2
}
