{
 "cells": [
  {
   "attachments": {},
   "cell_type": "markdown",
   "metadata": {},
   "source": [
    "# Prediction Engine"
   ]
  },
  {
   "cell_type": "code",
   "execution_count": 1,
   "metadata": {},
   "outputs": [],
   "source": [
    "# importing libraries\n",
    "import pandas as pd\n",
    "import numpy as np\n",
    "from sklearn import linear_model "
   ]
  },
  {
   "cell_type": "code",
   "execution_count": 2,
   "metadata": {},
   "outputs": [],
   "source": [
    "# reading clean file\n",
    "file_path = \"C:/Github Repo/NBA-Analytics/data/basketballProject/enriched-files/enriched-data.csv\"\n",
    "enriched_df = pd.read_csv(file_path)\n",
    "# remove current year data to create training data\n",
    "training_df = enriched_df[(enriched_df[\"SEASON_ID\"] != \"2022-23\") & (1 == 1)]\n",
    "# create test data from current year\n",
    "test_df = enriched_df[(enriched_df[\"SEASON_ID\"] == \"2022-23\") & (1 == 1)].reset_index()\n",
    "test_df[\"PTS_PRED\"] = 0"
   ]
  },
  {
   "cell_type": "code",
   "execution_count": 3,
   "metadata": {},
   "outputs": [],
   "source": [
    "# create x and y linear regression model\n",
    "x = training_df[[\"AGE\",\"SEASON_NO\",\"MIN\"]]\n",
    "y = training_df[\"PTS\"]\n",
    "\n",
    "regr = linear_model.LinearRegression()\n",
    "regr.fit(x.values,y.values)\n",
    "\n",
    "# create df to feed into prediction\n",
    "predict_df = test_df[[\"AGE\",\"SEASON_NO\",\"GP\",\"MIN\"]]\n",
    "\n",
    "# create variables to scale games/minutes to a full season\n",
    "min_test_max = max(test_df[\"MIN\"])\n",
    "min_his_max = max(predict_df[\"MIN\"])\n",
    "\n",
    "for index, row in test_df.iterrows():\n",
    "    name = row[\"PLAYER\"]\n",
    "    age = row[\"AGE\"]\n",
    "    season = row[\"SEASON_NO\"]\n",
    "    # formula for deriving minutes: MIN/MIN_TEST_MAX = MIN_W/MIN_HIS_MAX\n",
    "    minutes = (row[\"MIN\"]*min_his_max)/min_test_max\n",
    "    pts_pred = regr.predict([[age,season,minutes]])[0]\n",
    "    test_df.loc[(test_df[\"PLAYER\"] == name) & (1 == 1), \"PTS_PRED\"] = pts_pred"
   ]
  },
  {
   "cell_type": "code",
   "execution_count": 4,
   "metadata": {},
   "outputs": [],
   "source": [
    "test_df[\"PRED_DIFF\"] = test_df[\"PTS\"] - test_df[\"PTS_PRED\"]"
   ]
  },
  {
   "cell_type": "code",
   "execution_count": 5,
   "metadata": {},
   "outputs": [],
   "source": [
    "file_path = \"C:/Github Repo/NBA-Analytics/data/basketballProject/prediction-files/\"\n",
    "# file_path = \"../../data/basketballProject/prediction-files/\"\n",
    "file_name = \"predicted-data\"\n",
    "file_extension = \".csv\"\n",
    "full_path = file_path + file_name + file_extension\n",
    "test_df.to_csv(full_path)"
   ]
  },
  {
   "cell_type": "code",
   "execution_count": 6,
   "metadata": {},
   "outputs": [],
   "source": [
    "# test_df[[\"PLAYER\",\"PTS\",\"PTS_PRED\",\"PRED_DIFF\"]][test_df[\"PRED_DIFF\"] > 300]"
   ]
  }
 ],
 "metadata": {
  "kernelspec": {
   "display_name": "Python 3",
   "language": "python",
   "name": "python3"
  },
  "language_info": {
   "codemirror_mode": {
    "name": "ipython",
    "version": 3
   },
   "file_extension": ".py",
   "mimetype": "text/x-python",
   "name": "python",
   "nbconvert_exporter": "python",
   "pygments_lexer": "ipython3",
   "version": "3.11.1"
  },
  "orig_nbformat": 4,
  "vscode": {
   "interpreter": {
    "hash": "214b9567dfb3af3fec25f201254d742456ae26af278166741b3d1f08044ae781"
   }
  }
 },
 "nbformat": 4,
 "nbformat_minor": 2
}
