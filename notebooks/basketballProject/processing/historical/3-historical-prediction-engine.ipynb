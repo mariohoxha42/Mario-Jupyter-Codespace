{
 "cells": [
  {
   "attachments": {},
   "cell_type": "markdown",
   "metadata": {},
   "source": [
    "# Prediction Engine"
   ]
  },
  {
   "cell_type": "code",
   "execution_count": 16,
   "metadata": {},
   "outputs": [],
   "source": [
    "# importing libraries\n",
    "import pandas as pd\n",
    "import numpy as np\n",
    "from sklearn import linear_model "
   ]
  },
  {
   "cell_type": "code",
   "execution_count": 17,
   "metadata": {},
   "outputs": [],
   "source": [
    "# reading clean file\n",
    "file_path = \"C:/Github Repo/NBA-Analytics/data/basketballProject/enriched-files/enriched-historical-data.csv\"\n",
    "enriched_df = pd.read_csv(file_path)\n",
    "# remove current year data to create training data\n",
    "training_df = enriched_df[(enriched_df[\"SEASON_ID\"] != \"2022-23\") & (1==1)]\n",
    "training_df_3pt = enriched_df[(enriched_df[\"SEASON_ID\"] != \"2022-23\") & (enriched_df[\"FG3A\"] > 0)]\n",
    "# create test data from current year\n",
    "test_df = enriched_df[(enriched_df[\"SEASON_ID\"] == \"2022-23\") & (1 == 1)].reset_index()"
   ]
  },
  {
   "cell_type": "code",
   "execution_count": 18,
   "metadata": {},
   "outputs": [],
   "source": [
    "# create x and y linear regression model\n",
    "var_1 = \"AGE\"\n",
    "var_2 = \"SEASON_NO\"\n",
    "var_3 = \"MPG\"\n",
    "\n",
    "var_test = \"PPG\"\n",
    "\n",
    "var_pred = var_test + \"_PRED\"\n",
    "\n",
    "var_pred_diff = var_pred + \"_DIFF\"\n",
    "\n",
    "x = training_df[[var_1,var_2,var_3]]\n",
    "y = training_df[var_test]\n",
    "\n",
    "regr = linear_model.LinearRegression()\n",
    "regr.fit(x.values,y.values)\n",
    "\n",
    "# create df to feed into prediction\n",
    "predict_df = test_df[[\"PLAYER\",var_1,var_2,var_3]]\n",
    "\n",
    "for index, row in test_df.iterrows():\n",
    "    name = row[\"PLAYER\"]\n",
    "    v1 = row[var_1]\n",
    "    v2 = row[var_2]\n",
    "    v3 = row[var_3]\n",
    "    var_reg = regr.predict([[v1,v2,v3]])[0]\n",
    "    test_df.loc[(test_df[\"PLAYER\"] == name) & (1 == 1), var_pred] = var_reg\n",
    "test_df[var_pred_diff] = test_df[var_test] - test_df[var_pred]\n",
    "# test_df[[\"PLAYER\",var_1,var_2,var_test,var_pred,var_pred_diff]][(test_df[var_pred] > 10) & (test_df[var_test] > 20) & (test_df[var_pred_diff] > 0)]"
   ]
  },
  {
   "cell_type": "code",
   "execution_count": 19,
   "metadata": {},
   "outputs": [],
   "source": [
    "# create x and y linear regression model\n",
    "var_1 = \"FGAPG\"\n",
    "var_2 = \"FTP\"\n",
    "var_3 = \"TS_PCT\"\n",
    "\n",
    "var_test = \"FG3P\"\n",
    "\n",
    "var_pred = var_test + \"_PRED\"\n",
    "\n",
    "var_pred_diff = var_pred + \"_DIFF\"\n",
    "\n",
    "x = training_df_3pt[[var_1,var_2,var_3]]\n",
    "y = training_df_3pt[var_test]\n",
    "\n",
    "regr = linear_model.LinearRegression()\n",
    "regr.fit(x.values,y.values)\n",
    "\n",
    "# create df to feed into prediction\n",
    "predict_df = test_df[[\"PLAYER\",var_1,var_2,var_3]]\n",
    "\n",
    "for index, row in test_df.iterrows():\n",
    "    name = row[\"PLAYER\"]\n",
    "    v1 = row[var_1]\n",
    "    v2 = row[var_2]\n",
    "    v3 = row[var_3]\n",
    "    var_reg = regr.predict([[v1,v2,v3]])[0]\n",
    "    test_df.loc[(test_df[\"PLAYER\"] == name) & (1 == 1), var_pred] = var_reg\n",
    "test_df[var_pred_diff] = test_df[var_test] - test_df[var_pred]\n",
    "# test_df[[\"PLAYER\",var_1,var_2,var_test,var_pred,var_pred_diff]][(test_df[var_pred] > 0.35) & (test_df[var_test] > 0.35) & (test_df[var_pred_diff] > 0)]"
   ]
  },
  {
   "cell_type": "code",
   "execution_count": 20,
   "metadata": {},
   "outputs": [],
   "source": [
    "file_path = \"C:/Github Repo/NBA-Analytics/data/basketballProject/prediction-files/\"\n",
    "# file_path = \"../../data/basketballProject/prediction-files/\"\n",
    "file_name = \"predicted-historical-data\"\n",
    "file_extension = \".csv\"\n",
    "full_path = file_path + file_name + file_extension\n",
    "test_df.to_csv(full_path)"
   ]
  }
 ],
 "metadata": {
  "kernelspec": {
   "display_name": "Python 3",
   "language": "python",
   "name": "python3"
  },
  "language_info": {
   "codemirror_mode": {
    "name": "ipython",
    "version": 3
   },
   "file_extension": ".py",
   "mimetype": "text/x-python",
   "name": "python",
   "nbconvert_exporter": "python",
   "pygments_lexer": "ipython3",
   "version": "3.11.1"
  },
  "orig_nbformat": 4,
  "vscode": {
   "interpreter": {
    "hash": "214b9567dfb3af3fec25f201254d742456ae26af278166741b3d1f08044ae781"
   }
  }
 },
 "nbformat": 4,
 "nbformat_minor": 2
}
